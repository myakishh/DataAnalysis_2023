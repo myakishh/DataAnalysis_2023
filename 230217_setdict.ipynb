{
 "cells": [
  {
   "cell_type": "markdown",
   "metadata": {},
   "source": [
    "# Множества и словари (неупорядоченные типы данных)"
   ]
  },
  {
   "cell_type": "markdown",
   "metadata": {},
   "source": [
    "Мы уже знаем про:\n",
    "- типы данных `int`, `float`, `str`, `bool`, `list` [список], `tuple` (кортеж неизменяемый)\n",
    "- математические операторы: `+`, `-`, `/`, `*`, `**` (в степень), `%` (остаток от деления), `//` (целая часть при делении)\n",
    "- `print()` — напечатать\n",
    "- `type()` — узнать тип данных\n",
    "- `input()` — принять значение от пользователя\n",
    "- `int()` — преобразовать в целочисленный формат\n",
    "- `float()` — преобразовать в формат дробного числа\n",
    "- `str()` — преобразовать в строку\n",
    "- `bool()` — преобразовать в bool (True/False)\n",
    "- `list()` — преобразовать в список\n",
    "- `tuple()` — преобразовать в кортеж\n",
    "- условия:\n",
    "```\n",
    "if <условие>:\n",
    "    <инструкции, для случая если условие истинно (True)>\n",
    "#elif <условие №2>:\n",
    "#    <инструкции, для случая если условие №2 истинно (True)>\n",
    "#else:\n",
    "#    <инструкции, когда все условия не выполнились (False)>\n",
    "```\n",
    "- операторы сравнения: `>`, `<`, `>=`, `<=`, `==` (равно), `!=` (не равно)\n",
    "- логические операторы: `and`, `or`, `not`\n",
    "- цикл `while`:\n",
    "```\n",
    "while <условие>:\n",
    "    <инструкции, которые будут выполняться по кругу, пока условие выполняется True>\n",
    "```\n",
    "- цикл `for`\n",
    "```\n",
    "for <element> in <elements>:\n",
    "       <инструкции, которые будут выполняться для каждого элемента>\n",
    "```\n",
    "- `.split()` - поделить строку, указанную до точки, по сочетанию символов, указанных в скобках (строка -> список)\n",
    "- индексация с нуля: `итерируемый_объект[индекс]`\n",
    "- срезы: `итерируемый_объект[START:END:STEP]`\n",
    "- `*список` - то же самое, что `список[0] список[1] список[2] список[3]...`\n",
    "- `len()` - узнать длину\n",
    "- `range()` - \"обещание последовательности чисел\" (`list(range(0, 8, 2))` - `[0, 2, 4, 6]`)\n",
    "- `enumerate()` - делает последовательность кортежей: [(порядковый_номер, элемент), (порядковый_номер, элемент), (порядковый_номер, элемент)]\n",
    "\n",
    "**Методы списка (+ строк и кортежей, если метод ничего не изменяет)**\n",
    "- `list.append()` - добавление элемента в конец списка\n",
    "- `list.extend(another_list)` - расширяет список, добавляя в конец все элементы списка `another_list` (и не только списка)\n",
    "- `list.insert(i, x)` — вставляет в `i`-ую позицию в списке значение `x`\n",
    "- `list.remove(x)` — удаляет первый элемент в списке, имеющий значение `x`\n",
    "- `list.pop(i)` - удаляет элемент с индексом `i` (по умолчанию последний) и возвращает удалённый элемент\n",
    "- `list.clear()` — очищает список\n",
    "- `list.count(x)` — узнать, сколько раз встречается элемент `x`\n",
    "- `list.index(x)` — узнать индекс элемента `x` в списке\n",
    "\n",
    "**Функции для списков и кортежей**\n",
    "- `sum()` — сумма\n",
    "- `min()` — минимальное\n",
    "- `max()` — максимальное\n",
    "- `map()` — применить функцию или метод ко всем элементам сразу (`print(list(map(len, ['Привет', 'ТЕСТ', 'функции', 'map!'])))` - `[6, 4, 7, 4]`), (`print(list(map(str.split, ['Таня Казакова', 'Максим Бажуков', 'Олег Сериков'])))` - `[['Таня', 'Казакова'], ['Максим', 'Бажуков']]`)\n",
    "\n",
    "**Методы строк**\n",
    "- `str.strip()`, `str.lstrip()`, `str.rstrip()` - убрать символы на концах строки\n",
    "- `str.lower()`, `str.casefold()` - понизить регистр\n",
    "- `str.capitalize()`, `str.upper()`, `str.title()` - повысить регистр (как в предложении, всех букв, начальной буквы каждого слова)\n",
    "- `str.replace(\"<что>\", \"<на что>\")` - делаем замены\n",
    "- `str.find()` (`str.rfind()`) (а также `str.index()`, `str.rindex()`) - найти позицию символа в строке\n",
    "- `str.count()` - подсчёт нужных символов в строке\n",
    "- `str.split()` с `maxsplit` - делит строку по выбранной строке\n",
    "- `<чем>.join(<что>)` - соединить элементы списка\n",
    "- `str.startswith()` - проверяет, что строка начинается с определённой подстроки\n",
    "- `str.endswith()` - проверяет, что строка кончается на определённую подстроку\n",
    "- `str.isalpha()` - проверяет, что строка состоит только из букв\n",
    "- `str.isdigit()` - проверяет, что строка состоит только из цифр\n",
    "- `str.isalnum()` - проверяет, что строка состоит только из букв и цифр\n",
    "- `str.islower()` - проверяет, что все буквы в строке нижнего регистра\n",
    "- `str.isupper()` - проверяет, что все буквы в строке верхнего регистра\n",
    "- Форматирование строк 1:`\"Результат: {}\".format(res)`\n",
    "\n",
    "Форматирование строк 2: `f\"Результат: {res}\"` "
   ]
  },
  {
   "cell_type": "markdown",
   "metadata": {},
   "source": [
    "# Множества\n",
    "\n",
    "\"мешок уникальных неизменяемых объектов\"\n",
    "\n",
    "**Множество - это изменяемая неупорядоченная коллекция.**"
   ]
  },
  {
   "cell_type": "code",
   "execution_count": 1,
   "metadata": {},
   "outputs": [],
   "source": [
    "toread = {'Страна багровых туч', 'Человек века', 'Таманго', 'Миклухо-Маклай', 'что-нибудь Макса Фрая'}\n",
    "# это множество, не список"
   ]
  },
  {
   "cell_type": "code",
   "execution_count": 2,
   "metadata": {},
   "outputs": [
    {
     "name": "stdout",
     "output_type": "stream",
     "text": [
      "['Страна багровых туч', 'Человек века', 'Таманго', 'Миклухо-Маклай', 'что-нибудь Макса Фрая', 'Таманго']\n",
      "А вот множество из списка:\n",
      "{'Страна багровых туч', 'что-нибудь Макса Фрая', 'Миклухо-Маклай', 'Таманго', 'Человек века'}\n"
     ]
    }
   ],
   "source": [
    "list_toread = ['Страна багровых туч', 'Человек века',\n",
    "               'Таманго', 'Миклухо-Маклай', 'что-нибудь Макса Фрая']\n",
    "list_toread.append('Таманго')\n",
    "print(list_toread)\n",
    "\n",
    "print('А вот множество из списка:')\n",
    "print(set(list_toread))"
   ]
  },
  {
   "cell_type": "markdown",
   "metadata": {},
   "source": [
    "Множество отличается от списка 4 важными для нас вещами:\n",
    "\n",
    "1) **Множество - это НЕупорядоченная коллекция**, к его объектам нельзя обратиться по индексу. Список позволяет обращаться к объектам по индексам и даже делать срезы. Это также ведёт к тому, что при выводе или итерации по элементам **в множестве, порядок элементов произвольный, а в списке фиксированный.**\n",
    "\n",
    "2) **В множество могут входить только НЕизменяемые объекты**, а в список вы можете добавить что угодно, даже другой список!\n",
    "\n",
    "3) Операции удаления и проверки принадлежности в множестве работают за константное время. То есть их **скорость не зависит от длины множества**. В **списке время выполнения этих операций прямо пропорционально длине списка**. Чем список длиннее, тем дольше работает. \n",
    "\n",
    "4) **В множество входят только уникальные элементы**. Т. е. ни один элемент множества не повторяется. **Список допускает повторение элементов** и вообще может состоять из одинаковых элементов."
   ]
  },
  {
   "cell_type": "markdown",
   "metadata": {},
   "source": [
    "## Создание множества (сета)\n",
    "`set()` - создать множество"
   ]
  },
  {
   "cell_type": "code",
   "execution_count": 3,
   "metadata": {},
   "outputs": [
    {
     "name": "stdout",
     "output_type": "stream",
     "text": [
      "set()\n",
      "<class 'set'>\n"
     ]
    }
   ],
   "source": [
    "# Создадим пустое\n",
    "\n",
    "empty_set = set()  # Обратите внимание — пустое множество нельзя создать так: {} (тогда получится словарь)\n",
    "print(empty_set)\n",
    "print(type(empty_set))  # Проверим тип"
   ]
  },
  {
   "cell_type": "code",
   "execution_count": 4,
   "metadata": {},
   "outputs": [
    {
     "name": "stdout",
     "output_type": "stream",
     "text": [
      "{True, 5, (2, 1), 5.4, 'поле'}\n",
      "<class 'set'>\n"
     ]
    }
   ],
   "source": [
    "# Могут быть любые неизменяемые объекты\n",
    "\n",
    "mixed_set = {'поле', True, 5.4, 5, (2,1)}  # это мы создали непустое множество\n",
    "print(mixed_set)\n",
    "print(type(mixed_set))  # Проверим, как Python видит тип такого объекта"
   ]
  },
  {
   "cell_type": "code",
   "execution_count": 5,
   "metadata": {},
   "outputs": [
    {
     "ename": "TypeError",
     "evalue": "unhashable type: 'list'",
     "output_type": "error",
     "traceback": [
      "\u001b[0;31m---------------------------------------------------------------------------\u001b[0m",
      "\u001b[0;31mTypeError\u001b[0m                                 Traceback (most recent call last)",
      "Input \u001b[0;32mIn [5]\u001b[0m, in \u001b[0;36m<cell line: 1>\u001b[0;34m()\u001b[0m\n\u001b[0;32m----> 1\u001b[0m mixed_set \u001b[38;5;241m=\u001b[39m {\u001b[38;5;124m'\u001b[39m\u001b[38;5;124mполе\u001b[39m\u001b[38;5;124m'\u001b[39m, \u001b[38;5;28;01mTrue\u001b[39;00m, \u001b[38;5;241m5.4\u001b[39m, \u001b[38;5;241m5\u001b[39m, (\u001b[38;5;241m2\u001b[39m,\u001b[38;5;241m1\u001b[39m), [\u001b[38;5;241m0\u001b[39m, \u001b[38;5;241m1\u001b[39m]}\n",
      "\u001b[0;31mTypeError\u001b[0m: unhashable type: 'list'"
     ]
    }
   ],
   "source": [
    "mixed_set = {'поле', True, 5.4, 5, (2,1), [0, 1]}  # изменяемые объекты в множествах запрещены"
   ]
  },
  {
   "cell_type": "markdown",
   "metadata": {},
   "source": [
    "### Отступление про изменяемость\n",
    "Список - изменяемый, а кортеж, строка, число - неизменяемые. Как это доказать?"
   ]
  },
  {
   "cell_type": "code",
   "execution_count": 6,
   "metadata": {},
   "outputs": [
    {
     "name": "stdout",
     "output_type": "stream",
     "text": [
      "Что лежит в начальной переменной:  [1, 2, 3, 4]\n",
      "Что лежит в новой переменной:  None\n"
     ]
    }
   ],
   "source": [
    "first = [1, 2, 3]\n",
    "second = first.append(4)\n",
    "print('Что лежит в начальной переменной: ', first)  # После применения метода изменилась начальная переменная\n",
    "print('Что лежит в новой переменной: ', second)"
   ]
  },
  {
   "cell_type": "code",
   "execution_count": 8,
   "metadata": {},
   "outputs": [
    {
     "name": "stdout",
     "output_type": "stream",
     "text": [
      "Что лежит в начальной переменной:  кошка\n",
      "Что лежит в новой переменной:  лошла\n"
     ]
    }
   ],
   "source": [
    "first ='кошка'\n",
    "second = first.replace('к', 'л')\n",
    "print('Что лежит в начальной переменной: ', first)  # После применения метода начальная переменная не изменилась\n",
    "print('Что лежит в новой переменной: ', second)  # А в новой теперь результат нашего действия"
   ]
  },
  {
   "cell_type": "markdown",
   "metadata": {},
   "source": [
    "Можно превратить список, кортеж, строку в множество. (найти уникальные элементы)"
   ]
  },
  {
   "cell_type": "code",
   "execution_count": 9,
   "metadata": {},
   "outputs": [
    {
     "name": "stdout",
     "output_type": "stream",
     "text": [
      "Уникальные слова в списке: йогуртовый йод йот йеменец йог йогурт Йемен йога Йоркшир\n",
      "Количество уникальных слов: 9\n"
     ]
    }
   ],
   "source": [
    "# Вспоминаем слова на букву Й\n",
    "j_words = ['йод', 'йог', 'йога', 'йогурт', 'Йемен', 'йеменец',\n",
    "           'йога', 'йог', 'йогурт', 'йогуртовый', 'йод', 'Йоркшир', 'йот']\n",
    "\n",
    "j_words_set = set(j_words)\n",
    "\n",
    "print('Уникальные слова в списке:', *j_words_set)  # с множествами работает распаковка *\n",
    "print('Количество уникальных слов:', len(j_words_set))  # находим количество элементов множества len()"
   ]
  },
  {
   "cell_type": "code",
   "execution_count": 10,
   "metadata": {},
   "outputs": [
    {
     "name": "stdout",
     "output_type": "stream",
     "text": [
      "Уникальные слова в списке: ёж ёрничанье ё-моё ёрзанье ёлка ёмкость ёршик ёрш ёжиха\n",
      "Количество уникальных слов: 9\n"
     ]
    }
   ],
   "source": [
    "# С кортежами аналогично:\n",
    "jo_words = ('ёж', 'ёлка', 'ёмкость', 'ёрш', 'ёрзанье', 'ёршик', 'ёрничанье', 'ё-моё', 'ёж', 'ёжиха', 'ёрш')\n",
    "jo_words_set = set(jo_words)\n",
    "\n",
    "print('Уникальные слова в списке:', *jo_words_set)  # с множествами работает распаковка *\n",
    "print('Количество уникальных слов:', len(jo_words_set))"
   ]
  },
  {
   "cell_type": "code",
   "execution_count": 11,
   "metadata": {},
   "outputs": [
    {
     "data": {
      "text/plain": [
       "{'а', 'е', 'и', 'к', 'л', 'о', 'п', 'с', 'у', 'ш'}"
      ]
     },
     "execution_count": 11,
     "metadata": {},
     "output_type": "execute_result"
    }
   ],
   "source": [
    "# Множество из строки - множество уникальных символов\n",
    "tonguetwister = 'Шла Саша по шоссе и сосала сушку'\n",
    "\n",
    "# Что отрабатывает скороговорка? (напишем вместе)\n",
    "set(tonguetwister.lower().replace(' ', ''))"
   ]
  },
  {
   "cell_type": "markdown",
   "metadata": {},
   "source": [
    "### Тренировка\n",
    "Создайте множество смешариков с копытцами из этой строки"
   ]
  },
  {
   "cell_type": "code",
   "execution_count": 12,
   "metadata": {},
   "outputs": [
    {
     "data": {
      "text/plain": [
       "{'Бараш', 'Лосяш', 'Нюша'}"
      ]
     },
     "execution_count": 12,
     "metadata": {},
     "output_type": "execute_result"
    }
   ],
   "source": [
    "hoofed_kikoriki = \"Лосяш, Бараш, Нюша\"\n",
    "# ваш код\n",
    "set(hoofed_kikoriki.split(', '))\n",
    "# Хотим: {\"Лосяш\", \"Бараш\", \"Нюша\"}"
   ]
  },
  {
   "cell_type": "markdown",
   "metadata": {},
   "source": [
    "## Доступ к элементам"
   ]
  },
  {
   "cell_type": "code",
   "execution_count": 13,
   "metadata": {},
   "outputs": [
    {
     "name": "stdout",
     "output_type": "stream",
     "text": [
      "{'Ёжик', 'Пин', 'Крош', 'Лосяш', 'Совунья', 'Кар-Карыч', 'Копатыч', 'Бараш', 'Нюша'}\n"
     ]
    }
   ],
   "source": [
    "kikoriki = {'Крош', 'Ёжик', 'Нюша', 'Бараш', 'Лосяш', 'Пин', 'Кар-Карыч', 'Совунья', 'Копатыч'}\n",
    "print(kikoriki)"
   ]
  },
  {
   "cell_type": "markdown",
   "metadata": {},
   "source": [
    "Множества - неупорядоченная коллекция, поэтому доступ по индексу недоступен:"
   ]
  },
  {
   "cell_type": "code",
   "execution_count": 14,
   "metadata": {},
   "outputs": [
    {
     "ename": "TypeError",
     "evalue": "'set' object is not subscriptable",
     "output_type": "error",
     "traceback": [
      "\u001b[0;31m---------------------------------------------------------------------------\u001b[0m",
      "\u001b[0;31mTypeError\u001b[0m                                 Traceback (most recent call last)",
      "Input \u001b[0;32mIn [14]\u001b[0m, in \u001b[0;36m<cell line: 1>\u001b[0;34m()\u001b[0m\n\u001b[0;32m----> 1\u001b[0m \u001b[43mkikoriki\u001b[49m\u001b[43m[\u001b[49m\u001b[38;5;241;43m2\u001b[39;49m\u001b[43m]\u001b[49m\n",
      "\u001b[0;31mTypeError\u001b[0m: 'set' object is not subscriptable"
     ]
    }
   ],
   "source": [
    "kikoriki[2]  # Так не работает"
   ]
  },
  {
   "cell_type": "code",
   "execution_count": 15,
   "metadata": {},
   "outputs": [
    {
     "name": "stdout",
     "output_type": "stream",
     "text": [
      "Ёжик\n",
      "Пин\n",
      "Крош\n",
      "Лосяш\n",
      "Совунья\n",
      "Кар-Карыч\n",
      "Копатыч\n",
      "Бараш\n",
      "Нюша\n"
     ]
    }
   ],
   "source": [
    "for kikorik in kikoriki:\n",
    "    print(kikorik)"
   ]
  },
  {
   "cell_type": "markdown",
   "metadata": {},
   "source": [
    "**Можно проверить наличие элемента в множестве** с помощью `in / not in`"
   ]
  },
  {
   "cell_type": "code",
   "execution_count": 16,
   "metadata": {},
   "outputs": [
    {
     "name": "stdout",
     "output_type": "stream",
     "text": [
      "True\n",
      "False\n"
     ]
    }
   ],
   "source": [
    "print('Ёжик' in kikoriki)\n",
    "print('Панди' in kikoriki)"
   ]
  },
  {
   "cell_type": "markdown",
   "metadata": {},
   "source": [
    "## Изменение множества\n",
    "### `.add()` - добавить элемент\n",
    "\n",
    "Метод принимает один аргумент — объект, который нужно добавить. Метод ничего не возвращает, а просто изменяет исходное множество (результат работы метода нельзя сохранить в переменную!). "
   ]
  },
  {
   "cell_type": "code",
   "execution_count": 17,
   "metadata": {},
   "outputs": [
    {
     "name": "stdout",
     "output_type": "stream",
     "text": [
      "{'Ёжик', 'Пин', 'Крош', 'Панди', 'Лосяш', 'Совунья', 'Кар-Карыч', 'Копатыч', 'Бараш', 'Биби', 'Гусений', 'Нюша'}\n"
     ]
    }
   ],
   "source": [
    "kikoriki.add('Ёжик')  # ничего не изменится — такой элемент в множестве уже есть\n",
    "kikoriki.add('Панди')\n",
    "kikoriki.add('Биби')\n",
    "kikoriki.add('Гусений')\n",
    "\n",
    "print(kikoriki)"
   ]
  },
  {
   "cell_type": "markdown",
   "metadata": {},
   "source": [
    "### `.update()` - добавить несколько элементов в множество"
   ]
  },
  {
   "cell_type": "code",
   "execution_count": 18,
   "metadata": {},
   "outputs": [
    {
     "name": "stdout",
     "output_type": "stream",
     "text": [
      "Пустое множество женских персонажей в смешариках: {'Совунья'}\n",
      "Множество женских персонажей в смешариках: {'Совунья', 'Панди', 'Нюша'}\n"
     ]
    }
   ],
   "source": [
    "kikoriki_female_set = {'Совунья'}\n",
    "print(f\"Пустое множество женских персонажей в смешариках: {kikoriki_female_set}\")\n",
    "\n",
    "kikoriki_female_set.update([\"Нюша\", \"Панди\"])\n",
    "print(f\"Множество женских персонажей в смешариках: {kikoriki_female_set}\")"
   ]
  },
  {
   "cell_type": "markdown",
   "metadata": {},
   "source": [
    "### `.remove()` - удалить элемент из множества\n",
    "\n",
    "Метод принимает один аргумент — объект, который нужно удалить. Метод ничего не возвращает, а просто изменяет исходное множество (результат работы метода нельзя сохранить в переменную!).\n"
   ]
  },
  {
   "cell_type": "code",
   "execution_count": 19,
   "metadata": {},
   "outputs": [
    {
     "name": "stdout",
     "output_type": "stream",
     "text": [
      "{'Ёжик', 'Пин', 'Крош', 'Панди', 'Лосяш', 'Совунья', 'Кар-Карыч', 'Копатыч', 'Бараш', 'Биби', 'Нюша'}\n"
     ]
    }
   ],
   "source": [
    "kikoriki.remove('Гусений') \n",
    "\n",
    "print(kikoriki)"
   ]
  },
  {
   "cell_type": "code",
   "execution_count": 20,
   "metadata": {},
   "outputs": [
    {
     "ename": "KeyError",
     "evalue": "'Ежидзе'",
     "output_type": "error",
     "traceback": [
      "\u001b[0;31m---------------------------------------------------------------------------\u001b[0m",
      "\u001b[0;31mKeyError\u001b[0m                                  Traceback (most recent call last)",
      "Input \u001b[0;32mIn [20]\u001b[0m, in \u001b[0;36m<cell line: 1>\u001b[0;34m()\u001b[0m\n\u001b[0;32m----> 1\u001b[0m \u001b[43mkikoriki\u001b[49m\u001b[38;5;241;43m.\u001b[39;49m\u001b[43mremove\u001b[49m\u001b[43m(\u001b[49m\u001b[38;5;124;43m'\u001b[39;49m\u001b[38;5;124;43mЕжидзе\u001b[39;49m\u001b[38;5;124;43m'\u001b[39;49m\u001b[43m)\u001b[49m\n",
      "\u001b[0;31mKeyError\u001b[0m: 'Ежидзе'"
     ]
    }
   ],
   "source": [
    "kikoriki.remove('Ежидзе')  # при попытке удалить отсутствующий элемент получим ошибку "
   ]
  },
  {
   "cell_type": "markdown",
   "metadata": {},
   "source": [
    "### Тренировка\n",
    "Придумайте несколько способов добавить в множество смешариков с копытцами Мулю и Муню"
   ]
  },
  {
   "cell_type": "code",
   "execution_count": 21,
   "metadata": {},
   "outputs": [
    {
     "data": {
      "text/plain": [
       "{'Бараш', 'Лосяш', 'Муля', 'Муня', 'Нюша'}"
      ]
     },
     "execution_count": 21,
     "metadata": {},
     "output_type": "execute_result"
    }
   ],
   "source": [
    "hoofed_kikoriki_set = {'Лосяш', 'Бараш', 'Нюша'}\n",
    "new_year_cows = [\"Муля\", \"Муня\"]\n",
    "\n",
    "hoofed_kikoriki_set.update(new_year_cows)\n",
    "hoofed_kikoriki_set"
   ]
  },
  {
   "cell_type": "markdown",
   "metadata": {},
   "source": [
    "## Работа с множествами\n",
    "### `.union()` или `|` - объединяем множества"
   ]
  },
  {
   "cell_type": "code",
   "execution_count": 22,
   "metadata": {},
   "outputs": [
    {
     "name": "stdout",
     "output_type": "stream",
     "text": [
      "И взрослые, и дети: {'Ёжик', 'Пин', 'Крош', 'Лосяш', 'Совунья', 'Кар-Карыч', 'Биби', 'Бараш', 'Копатыч', 'Нюша'}\n",
      "И взрослые, и дети: {'Ёжик', 'Пин', 'Крош', 'Лосяш', 'Совунья', 'Кар-Карыч', 'Биби', 'Бараш', 'Копатыч', 'Нюша'}\n"
     ]
    }
   ],
   "source": [
    "# И взрослые, и дети\n",
    "kikoriki_kids_set = {\"Нюша\", \"Бараш\", \"Ёжик\", \"Крош\", \"Биби\"}\n",
    "kikoriki_adults_set = {'Кар-Карыч', 'Копатыч', 'Совунья', 'Лосяш', 'Пин'}\n",
    "\n",
    "# Находим объединение с помощью оператора `|`\n",
    "print(f'И взрослые, и дети: {kikoriki_kids_set | kikoriki_adults_set}')\n",
    "\n",
    "# Находим объединение с помощью метода `.union()`\n",
    "print(f'И взрослые, и дети: {kikoriki_kids_set.union(kikoriki_adults_set)}')"
   ]
  },
  {
   "cell_type": "code",
   "execution_count": 23,
   "metadata": {},
   "outputs": [
    {
     "data": {
      "text/plain": [
       "{'Ёжик',\n",
       " 'Бараш',\n",
       " 'Биби',\n",
       " 'Кар-Карыч',\n",
       " 'Копатыч',\n",
       " 'Крош',\n",
       " 'Лосяш',\n",
       " 'Нюша',\n",
       " 'Пин',\n",
       " 'Совунья'}"
      ]
     },
     "execution_count": 23,
     "metadata": {},
     "output_type": "execute_result"
    }
   ],
   "source": [
    "kikoriki_all_set = kikoriki_kids_set.union(kikoriki_adults_set)\n",
    "kikoriki_all_set"
   ]
  },
  {
   "cell_type": "markdown",
   "metadata": {},
   "source": [
    "### `.intersection()` или `&` - пересекаем множества"
   ]
  },
  {
   "cell_type": "code",
   "execution_count": 24,
   "metadata": {},
   "outputs": [
    {
     "name": "stdout",
     "output_type": "stream",
     "text": [
      "Взрослые женщины {'Совунья'}\n",
      "Взрослые женщины: {'Совунья'}\n"
     ]
    }
   ],
   "source": [
    "# Взрослые женщины\n",
    "kikoriki_adults_set = {'Кар-Карыч', 'Копатыч', 'Совунья', 'Лосяш', 'Пин'}\n",
    "kikoriki_female_set = {\"Нюша\", \"Совунья\", \"Панди\"}\n",
    "\n",
    "# Находим пересечение с помощью оператора `&`\n",
    "print(f'Взрослые женщины {kikoriki_adults_set & kikoriki_female_set}')\n",
    "\n",
    "# Находим объединение с помощью метода `.intersection()`\n",
    "print(f'Взрослые женщины: {kikoriki_adults_set.intersection(kikoriki_female_set)}')"
   ]
  },
  {
   "cell_type": "markdown",
   "metadata": {},
   "source": [
    "### `.difference()` или `-` - ищем разность"
   ]
  },
  {
   "cell_type": "code",
   "execution_count": 25,
   "metadata": {},
   "outputs": [
    {
     "name": "stdout",
     "output_type": "stream",
     "text": [
      "Взрослые мужчины: {'Пин', 'Кар-Карыч', 'Копатыч', 'Лосяш'}\n",
      "Взрослые мужчины: {'Пин', 'Кар-Карыч', 'Копатыч', 'Лосяш'}\n"
     ]
    }
   ],
   "source": [
    "# Взрослые мужчины\n",
    "kikoriki_adults_set = {'Кар-Карыч', 'Копатыч', 'Совунья', 'Лосяш', 'Пин'}\n",
    "kikoriki_female_set = {\"Нюша\", \"Совунья\", \"Панди\"}\n",
    "\n",
    "# Находим разность с помощью оператора `-`\n",
    "print(f'Взрослые мужчины: {kikoriki_adults_set - kikoriki_female_set}')\n",
    "\n",
    "# Находим разность с помощью метода `.difference()`\n",
    "print(f'Взрослые мужчины: {kikoriki_adults_set.difference(kikoriki_female_set)}')"
   ]
  },
  {
   "cell_type": "code",
   "execution_count": 26,
   "metadata": {},
   "outputs": [
    {
     "data": {
      "text/plain": [
       "{'Нюша', 'Панди'}"
      ]
     },
     "execution_count": 26,
     "metadata": {},
     "output_type": "execute_result"
    }
   ],
   "source": [
    "# Поменяли местами\n",
    "kikoriki_female_set.difference(kikoriki_adults_set)"
   ]
  },
  {
   "cell_type": "markdown",
   "metadata": {},
   "source": [
    "### `.symmetric_difference()` или `^` - находим симметрическую разность"
   ]
  },
  {
   "cell_type": "code",
   "execution_count": 27,
   "metadata": {},
   "outputs": [
    {
     "name": "stdout",
     "output_type": "stream",
     "text": [
      "Взрослые мужчины и девочки: {'Пин', 'Панди', 'Лосяш', 'Кар-Карыч', 'Копатыч', 'Нюша'}\n",
      "Взрослые мужчины и девочки: {'Пин', 'Панди', 'Лосяш', 'Кар-Карыч', 'Копатыч', 'Нюша'}\n"
     ]
    }
   ],
   "source": [
    "# Взрослые мужчины и девочки\n",
    "kikoriki_adults_set = {'Кар-Карыч', 'Копатыч', 'Совунья', 'Лосяш', 'Пин'}\n",
    "kikoriki_female_set = {\"Нюша\", \"Совунья\", \"Панди\"}\n",
    "\n",
    "# Находим симметрическую разность с помощью оператора `^`\n",
    "print(f'Взрослые мужчины и девочки: {kikoriki_adults_set ^ kikoriki_female_set}')\n",
    "\n",
    "# Находим симметрическую разность с помощью метода `.symmetric_difference()`\n",
    "print(f'Взрослые мужчины и девочки: {kikoriki_adults_set.symmetric_difference(kikoriki_female_set)}')"
   ]
  },
  {
   "cell_type": "markdown",
   "metadata": {},
   "source": [
    "### Тренировка\n",
    "Найдите ребёнка-девочку с копытцами"
   ]
  },
  {
   "cell_type": "code",
   "execution_count": 28,
   "metadata": {},
   "outputs": [
    {
     "name": "stdout",
     "output_type": "stream",
     "text": [
      "{'Нюша'}\n",
      "{'Нюша'}\n"
     ]
    }
   ],
   "source": [
    "kikoriki_kids_set = {\"Нюша\", \"Бараш\", \"Ёжик\", \"Крош\", \"Биби\"}\n",
    "hoofed_kikoriki_set = {'Лосяш', 'Бараш', 'Нюша'}\n",
    "kikoriki_female_set = {\"Нюша\", \"Совунья\", \"Панди\"}\n",
    "\n",
    "# Первый способ\n",
    "print(kikoriki_kids_set & hoofed_kikoriki_set & kikoriki_female_set)\n",
    "\n",
    "# Второй способ\n",
    "print(kikoriki_kids_set.intersection(hoofed_kikoriki_set).intersection(kikoriki_female_set))"
   ]
  },
  {
   "cell_type": "markdown",
   "metadata": {},
   "source": [
    "Найдите ребёнка-мальчика с копытами"
   ]
  },
  {
   "cell_type": "code",
   "execution_count": 29,
   "metadata": {},
   "outputs": [
    {
     "data": {
      "text/plain": [
       "{'Бараш'}"
      ]
     },
     "execution_count": 29,
     "metadata": {},
     "output_type": "execute_result"
    }
   ],
   "source": [
    "kikoriki_kids_set & hoofed_kikoriki_set - kikoriki_female_set"
   ]
  },
  {
   "cell_type": "markdown",
   "metadata": {},
   "source": [
    "## Словари\n",
    "Словарь - неупорядоченная структура данных для хранения пар ключ—значение.\n",
    "Изменяемый тип данных."
   ]
  },
  {
   "cell_type": "code",
   "execution_count": 30,
   "metadata": {},
   "outputs": [
    {
     "name": "stdout",
     "output_type": "stream",
     "text": [
      "мечтать, мечта, сон\n"
     ]
    }
   ],
   "source": [
    "eng_rus = {'home': 'дом', 'dream': 'мечтать, мечта, сон', 'team': 'команда'}\n",
    "print(eng_rus['dream'])"
   ]
  },
  {
   "cell_type": "markdown",
   "metadata": {},
   "source": [
    "### Создание словаря\n",
    "#### `dict()` - функция для создания словаря"
   ]
  },
  {
   "cell_type": "code",
   "execution_count": 31,
   "metadata": {},
   "outputs": [
    {
     "name": "stdout",
     "output_type": "stream",
     "text": [
      "{}\n",
      "<class 'dict'>\n"
     ]
    }
   ],
   "source": [
    "empty_dict_1 = {}           # Пустой словарь\n",
    "empty_dict_2 = dict()       # И еще один пустой словарь\n",
    "print(empty_dict_1)  \n",
    "print(type(empty_dict_2))   # Python видит словарь как тип данных dict"
   ]
  },
  {
   "cell_type": "markdown",
   "metadata": {},
   "source": [
    "**Можно задать словарь парами ключ - значение**"
   ]
  },
  {
   "cell_type": "code",
   "execution_count": 32,
   "metadata": {},
   "outputs": [
    {
     "name": "stdout",
     "output_type": "stream",
     "text": [
      "{'Совунья': 'сова', 'Копатыч': 'медведь', 'Карыч': 'ворон', 'Крош': 'кролик'}\n"
     ]
    }
   ],
   "source": [
    "kikoriki_animal_dict = {'Совунья': 'сова', 'Копатыч': 'медведь', 'Карыч': 'ворон', 'Крош': 'кролик'}  # создадим словарь\n",
    "print(kikoriki_animal_dict)"
   ]
  },
  {
   "cell_type": "markdown",
   "metadata": {},
   "source": [
    "Объекты-ключи **уникальные** и неизменяемые, каждому из них сопоставлено значение, которое может быть неуникальным и изменяемым. "
   ]
  },
  {
   "cell_type": "code",
   "execution_count": 33,
   "metadata": {},
   "outputs": [
    {
     "data": {
      "text/plain": [
       "{'Рождественская мистерия': ['Юстейн Гордер', 1992],\n",
       " True: True,\n",
       " ('Гарри Поттер и Дары Смерти 1',\n",
       "  'Гарри Поттер и Дары Смерти 2'): ['Дэвид Йейтс', '2010-2011'],\n",
       " 451: 451}"
      ]
     },
     "execution_count": 33,
     "metadata": {},
     "output_type": "execute_result"
    }
   ],
   "source": [
    "strange_dict = {'Рождественская мистерия': ['Юстейн Гордер', 1992],\n",
    "                 True: True,\n",
    "               ('Гарри Поттер и Дары Смерти 1', 'Гарри Поттер и Дары Смерти 2'): ['Дэвид Йейтс', '2010-2011'],\n",
    "                 451: 451}\n",
    "strange_dict"
   ]
  },
  {
   "cell_type": "code",
   "execution_count": 34,
   "metadata": {},
   "outputs": [
    {
     "ename": "TypeError",
     "evalue": "unhashable type: 'list'",
     "output_type": "error",
     "traceback": [
      "\u001b[0;31m---------------------------------------------------------------------------\u001b[0m",
      "\u001b[0;31mTypeError\u001b[0m                                 Traceback (most recent call last)",
      "Input \u001b[0;32mIn [34]\u001b[0m, in \u001b[0;36m<cell line: 2>\u001b[0;34m()\u001b[0m\n\u001b[1;32m      1\u001b[0m \u001b[38;5;66;03m# Вот так не работает:\u001b[39;00m\n\u001b[0;32m----> 2\u001b[0m books \u001b[38;5;241m=\u001b[39m {[\u001b[38;5;124m'\u001b[39m\u001b[38;5;124mВойна и мир\u001b[39m\u001b[38;5;124m'\u001b[39m, \u001b[38;5;124m'\u001b[39m\u001b[38;5;124mАнна Каренина\u001b[39m\u001b[38;5;124m'\u001b[39m, \u001b[38;5;124m'\u001b[39m\u001b[38;5;124mДетство\u001b[39m\u001b[38;5;124m'\u001b[39m]: \u001b[38;5;124m'\u001b[39m\u001b[38;5;124mЛ. Н. Толстой\u001b[39m\u001b[38;5;124m'\u001b[39m}\n",
      "\u001b[0;31mTypeError\u001b[0m: unhashable type: 'list'"
     ]
    }
   ],
   "source": [
    "# Вот так не работает:\n",
    "books = {['Война и мир', 'Анна Каренина', 'Детство']: 'Л. Н. Толстой'}\n",
    "# Список не может быть в ключе"
   ]
  },
  {
   "cell_type": "markdown",
   "metadata": {},
   "source": [
    "**Можно сделать словарь из списка особой структуры**"
   ]
  },
  {
   "cell_type": "code",
   "execution_count": 35,
   "metadata": {},
   "outputs": [
    {
     "name": "stdout",
     "output_type": "stream",
     "text": [
      "{'Совунья': 'сова', 'Копатыч': 'медведь', 'Карыч': 'ворон', 'Крош': 'кролик'}\n"
     ]
    }
   ],
   "source": [
    "kikoriki_animal_dict = dict([[\"Совунья\", \"сова\"],\n",
    "                             [\"Копатыч\", \"медведь\"],\n",
    "                             [\"Карыч\", \"ворон\"],\n",
    "                             [\"Крош\", \"кролик\"]])\n",
    "print(kikoriki_animal_dict)"
   ]
  },
  {
   "cell_type": "markdown",
   "metadata": {},
   "source": [
    "### Длина словаря `len()`"
   ]
  },
  {
   "cell_type": "code",
   "execution_count": 36,
   "metadata": {},
   "outputs": [
    {
     "data": {
      "text/plain": [
       "4"
      ]
     },
     "execution_count": 36,
     "metadata": {},
     "output_type": "execute_result"
    }
   ],
   "source": [
    "len(kikoriki_animal_dict)  # количество ключей"
   ]
  },
  {
   "cell_type": "markdown",
   "metadata": {},
   "source": [
    "### Доступ к элементам"
   ]
  },
  {
   "cell_type": "code",
   "execution_count": 37,
   "metadata": {},
   "outputs": [
    {
     "name": "stdout",
     "output_type": "stream",
     "text": [
      "{'Совунья': 'сова', 'Копатыч': 'медведь', 'Карыч': 'ворон', 'Крош': 'кролик'}\n"
     ]
    }
   ],
   "source": [
    "print(kikoriki_animal_dict)"
   ]
  },
  {
   "cell_type": "markdown",
   "metadata": {},
   "source": [
    "Словарь - неупорядоченная коллекция, поэтому доступ по индексу недоступен:"
   ]
  },
  {
   "cell_type": "code",
   "execution_count": 38,
   "metadata": {},
   "outputs": [
    {
     "ename": "KeyError",
     "evalue": "2",
     "output_type": "error",
     "traceback": [
      "\u001b[0;31m---------------------------------------------------------------------------\u001b[0m",
      "\u001b[0;31mKeyError\u001b[0m                                  Traceback (most recent call last)",
      "Input \u001b[0;32mIn [38]\u001b[0m, in \u001b[0;36m<cell line: 1>\u001b[0;34m()\u001b[0m\n\u001b[0;32m----> 1\u001b[0m \u001b[43mkikoriki_animal_dict\u001b[49m\u001b[43m[\u001b[49m\u001b[38;5;241;43m2\u001b[39;49m\u001b[43m]\u001b[49m\n",
      "\u001b[0;31mKeyError\u001b[0m: 2"
     ]
    }
   ],
   "source": [
    "kikoriki_animal_dict[2]"
   ]
  },
  {
   "cell_type": "markdown",
   "metadata": {},
   "source": [
    "**Можно обращаться по ключу**"
   ]
  },
  {
   "cell_type": "code",
   "execution_count": 39,
   "metadata": {},
   "outputs": [
    {
     "name": "stdout",
     "output_type": "stream",
     "text": [
      "кролик\n"
     ]
    }
   ],
   "source": [
    "kikoriki_animal_dict = {'Совунья': 'сова', 'Копатыч': 'медведь', 'Карыч': 'ворон', 'Крош': 'кролик'}\n",
    "print(kikoriki_animal_dict['Крош'])"
   ]
  },
  {
   "cell_type": "code",
   "execution_count": 40,
   "metadata": {},
   "outputs": [
    {
     "ename": "KeyError",
     "evalue": "'Бараш'",
     "output_type": "error",
     "traceback": [
      "\u001b[0;31m---------------------------------------------------------------------------\u001b[0m",
      "\u001b[0;31mKeyError\u001b[0m                                  Traceback (most recent call last)",
      "Input \u001b[0;32mIn [40]\u001b[0m, in \u001b[0;36m<cell line: 1>\u001b[0;34m()\u001b[0m\n\u001b[0;32m----> 1\u001b[0m \u001b[38;5;28mprint\u001b[39m(\u001b[43mkikoriki_animal_dict\u001b[49m\u001b[43m[\u001b[49m\u001b[38;5;124;43m'\u001b[39;49m\u001b[38;5;124;43mБараш\u001b[39;49m\u001b[38;5;124;43m'\u001b[39;49m\u001b[43m]\u001b[49m)\n",
      "\u001b[0;31mKeyError\u001b[0m: 'Бараш'"
     ]
    }
   ],
   "source": [
    "print(kikoriki_animal_dict['Бараш'])  # если такой ключ в словаре отсутствует — получим ошибку KeyError"
   ]
  },
  {
   "cell_type": "markdown",
   "metadata": {},
   "source": [
    "**Можно проверить наличие ключа в словаре** с помощью `in / not in`"
   ]
  },
  {
   "cell_type": "code",
   "execution_count": 41,
   "metadata": {},
   "outputs": [
    {
     "name": "stdout",
     "output_type": "stream",
     "text": [
      "True\n",
      "False\n"
     ]
    }
   ],
   "source": [
    "kikoriki_animal_dict = {'Совунья': 'сова', 'Копатыч': 'медведь', 'Карыч': 'ворон', 'Крош': 'кролик'}\n",
    "print('Карыч' in kikoriki_animal_dict)  # есть ли в нашем словаре ключ 'Карыч'?\n",
    "print('ворон' in kikoriki_animal_dict)  # есть ли в нашем словаре ключ 'ворон'?"
   ]
  },
  {
   "cell_type": "markdown",
   "metadata": {},
   "source": [
    "**При прохождении по циклу работаем с ключами**"
   ]
  },
  {
   "cell_type": "code",
   "execution_count": 42,
   "metadata": {},
   "outputs": [
    {
     "name": "stdout",
     "output_type": "stream",
     "text": [
      "Совунья\n",
      "Копатыч\n",
      "Карыч\n",
      "Крош\n"
     ]
    }
   ],
   "source": [
    "for kikorik in kikoriki_animal_dict:\n",
    "    print(kikorik)"
   ]
  },
  {
   "cell_type": "markdown",
   "metadata": {},
   "source": [
    "**Можно обращаться к ключам, значениям и кортежам (ключ:значение)** с помощью специальных методов.\n",
    "\n",
    "* `.keys()` — возвращает объект с ключами словаря.\n",
    "* `.values()` — возвращает объект со значениями словаря.\n",
    "* `.items()` — возвращает объект с кортежами вида (ключ, значение).\n",
    "\n",
    "По каждому из этих объектов можно, например, пройтись циклом `for`, вывести с помощью оператора распаковки `*` или объединить в строку с помощью `.join()` (если объекты внутри — строки)."
   ]
  },
  {
   "cell_type": "code",
   "execution_count": 43,
   "metadata": {},
   "outputs": [
    {
     "name": "stdout",
     "output_type": "stream",
     "text": [
      "dict_keys(['Совунья', 'Копатыч', 'Карыч', 'Крош'])\n",
      "dict_values(['сова', 'медведь', 'ворон', 'кролик'])\n",
      "dict_items([('Совунья', 'сова'), ('Копатыч', 'медведь'), ('Карыч', 'ворон'), ('Крош', 'кролик')])\n"
     ]
    }
   ],
   "source": [
    "print(kikoriki_animal_dict.keys())   # ключи\n",
    "print(kikoriki_animal_dict.values()) # значения\n",
    "print(kikoriki_animal_dict.items())  # кортежи (ключ, значение)"
   ]
  },
  {
   "cell_type": "markdown",
   "metadata": {},
   "source": [
    "### Тренировка\n",
    "Проверьте, что \"ворон\" в значениях, а \"панда\" нет."
   ]
  },
  {
   "cell_type": "code",
   "execution_count": 44,
   "metadata": {},
   "outputs": [
    {
     "name": "stdout",
     "output_type": "stream",
     "text": [
      "True\n",
      "False\n"
     ]
    }
   ],
   "source": [
    "print(\"ворон\" in kikoriki_animal_dict.values())\n",
    "print(\"панда\" in kikoriki_animal_dict.values())"
   ]
  },
  {
   "cell_type": "markdown",
   "metadata": {},
   "source": [
    "### Тренировка\n",
    "Выведите информацию про то, какими животными являются смешарики-дети (если они есть в словаре)"
   ]
  },
  {
   "cell_type": "code",
   "execution_count": 45,
   "metadata": {},
   "outputs": [
    {
     "name": "stdout",
     "output_type": "stream",
     "text": [
      "Ёжик - ёж\n",
      "Крош - кролик\n"
     ]
    }
   ],
   "source": [
    "kikoriki_animal_dict = {'Совунья': 'сова', 'Копатыч': 'медведь', 'Карыч': 'ворон', 'Крош': 'кролик', 'Ёжик': 'ёж'}\n",
    "kikoriki_kids_set = {'Ёжик', 'Бараш', 'Биби', 'Крош', 'Нюша'}\n",
    "\n",
    "for kid in kikoriki_kids_set:\n",
    "    if kid in kikoriki_animal_dict:\n",
    "        print(kid, '-', kikoriki_animal_dict[kid])"
   ]
  },
  {
   "cell_type": "markdown",
   "metadata": {},
   "source": [
    "Продолжение про словари следует..."
   ]
  }
 ],
 "metadata": {
  "kernelspec": {
   "display_name": "Python 3 (ipykernel)",
   "language": "python",
   "name": "python3"
  },
  "language_info": {
   "codemirror_mode": {
    "name": "ipython",
    "version": 3
   },
   "file_extension": ".py",
   "mimetype": "text/x-python",
   "name": "python",
   "nbconvert_exporter": "python",
   "pygments_lexer": "ipython3",
   "version": "3.9.16"
  }
 },
 "nbformat": 4,
 "nbformat_minor": 4
}
