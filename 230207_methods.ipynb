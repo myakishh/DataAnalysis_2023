{
 "cells": [
  {
   "cell_type": "markdown",
   "id": "fe4aa52a",
   "metadata": {
    "id": "fe4aa52a"
   },
   "source": [
    "# Продолжение про списки, кортежи и строки. Методы списков"
   ]
  },
  {
   "cell_type": "markdown",
   "id": "aec3aa23",
   "metadata": {
    "id": "aec3aa23"
   },
   "source": [
    "Мы уже знаем про:\n",
    "- типы данных `int`, `float`, `str`, `bool`, `list` [список], `tuple` (кортеж неизменяемый)\n",
    "- математические операторы: `+`, `-`, `/`, `*`, `**` (в степень), `%` (остаток от деления), `//` (целая часть при делении)\n",
    "- `print()` — напечатать\n",
    "- `type()` — узнать тип данных\n",
    "- `input()` — принять значение от пользователя\n",
    "- `int()` — преобразовать в целочисленный формат\n",
    "- `float()` — преобразовать в формат дробного числа\n",
    "- `str()` — преобразовать в строку\n",
    "- `bool()` — преобразовать в bool (True/False)\n",
    "- `list()` — преобразовать в список\n",
    "- `tuple()` — преобразовать в кортеж\n",
    "- условия:\n",
    "```\n",
    "if <условие>:\n",
    "    <инструкции, для случая если условие истинно (True)>\n",
    "#elif <условие №2>:\n",
    "#    <инструкции, для случая если условие №2 истинно (True)>\n",
    "#else:\n",
    "#    <инструкции, когда все условия не выполнились (False)>\n",
    "```\n",
    "- операторы сравнения: `>`, `<`, `>=`, `<=`, `==` (равно), `!=` (не равно)\n",
    "- логические операторы: `and`, `or`, `not`\n",
    "- цикл `while`:\n",
    "```\n",
    "while <условие>:\n",
    "    <инструкции, которые будут выполняться по кругу, пока условие выполняется True>\n",
    "```\n",
    "- цикл `for`\n",
    "```\n",
    "for <element> in <elements>:\n",
    "       <инструкции, которые будут выполняться для каждого элемента>\n",
    "```\n",
    "- `.split()` - поделить строку, указанную до точки, по сочетанию символов, указанных в скобках (строка -> список)\n",
    "- индексация с нуля: `итерируемый_объект[индекс]`\n",
    "- срезы: `итерируемый_объект[START:END:STEP]`\n",
    "- `*список` - то же самое, что `список[0] список[1] список[2] список[3]...`"
   ]
  },
  {
   "cell_type": "markdown",
   "id": "qIMX-OTubLwX",
   "metadata": {
    "id": "qIMX-OTubLwX"
   },
   "source": [
    "## len() - узнать длину"
   ]
  },
  {
   "cell_type": "code",
   "execution_count": 1,
   "id": "PDh26CAcbFyJ",
   "metadata": {
    "colab": {
     "base_uri": "https://localhost:8080/"
    },
    "id": "PDh26CAcbFyJ",
    "outputId": "23ca5354-e158-4536-9a8e-b3cbcb49627c"
   },
   "outputs": [
    {
     "data": {
      "text/plain": [
       "12"
      ]
     },
     "execution_count": 1,
     "metadata": {},
     "output_type": "execute_result"
    }
   ],
   "source": [
    "months = ('January', 'February', 'March',\n",
    "          'April', 'May', 'June', 'July',\n",
    "          'August', 'September', 'October',\n",
    "          'November', 'December')\n",
    "len(months)"
   ]
  },
  {
   "cell_type": "code",
   "execution_count": 2,
   "id": "AGs2MbnGbuMd",
   "metadata": {
    "colab": {
     "base_uri": "https://localhost:8080/"
    },
    "id": "AGs2MbnGbuMd",
    "outputId": "518ac72b-a247-4889-fa9e-23f686df7154"
   },
   "outputs": [
    {
     "name": "stdout",
     "output_type": "stream",
     "text": [
      "36\n"
     ]
    }
   ],
   "source": [
    "print(len('Сколько символов в этом предложении?'))"
   ]
  },
  {
   "cell_type": "markdown",
   "id": "oriScWuCacNt",
   "metadata": {
    "id": "oriScWuCacNt"
   },
   "source": [
    "## range() - \"обещание последовательности чисел\" "
   ]
  },
  {
   "cell_type": "code",
   "execution_count": 3,
   "id": "jyJ6Ah-IaeZg",
   "metadata": {
    "colab": {
     "base_uri": "https://localhost:8080/"
    },
    "id": "jyJ6Ah-IaeZg",
    "outputId": "aee76753-39bb-4c74-c9e0-bc17a0723570"
   },
   "outputs": [
    {
     "name": "stdout",
     "output_type": "stream",
     "text": [
      "range(0, 8)\n"
     ]
    }
   ],
   "source": [
    "print(range(8))"
   ]
  },
  {
   "cell_type": "code",
   "execution_count": 5,
   "id": "PX8iWwYjjieL",
   "metadata": {
    "colab": {
     "base_uri": "https://localhost:8080/"
    },
    "id": "PX8iWwYjjieL",
    "outputId": "a95a3b83-29a9-4002-a8b7-1c006acef34f"
   },
   "outputs": [
    {
     "data": {
      "text/plain": [
       "(0, 1, 2, 3, 4, 5, 6, 7)"
      ]
     },
     "execution_count": 5,
     "metadata": {},
     "output_type": "execute_result"
    }
   ],
   "source": [
    "tuple(range(8))"
   ]
  },
  {
   "cell_type": "code",
   "execution_count": 6,
   "id": "0PSGmTiYafTD",
   "metadata": {
    "id": "0PSGmTiYafTD"
   },
   "outputs": [
    {
     "data": {
      "text/plain": [
       "[2, 3, 4, 5, 6, 7]"
      ]
     },
     "execution_count": 6,
     "metadata": {},
     "output_type": "execute_result"
    }
   ],
   "source": [
    "list(range(2,8))"
   ]
  },
  {
   "cell_type": "code",
   "execution_count": 7,
   "id": "2zB8Tew9aiS2",
   "metadata": {
    "id": "2zB8Tew9aiS2"
   },
   "outputs": [
    {
     "data": {
      "text/plain": [
       "[0, 2, 4, 6]"
      ]
     },
     "execution_count": 7,
     "metadata": {},
     "output_type": "execute_result"
    }
   ],
   "source": [
    "list(range(0, 8, 2))"
   ]
  },
  {
   "cell_type": "code",
   "execution_count": 11,
   "id": "CUxX-e-janFa",
   "metadata": {
    "colab": {
     "base_uri": "https://localhost:8080/"
    },
    "id": "CUxX-e-janFa",
    "outputId": "4660b180-f097-4881-a2f2-9301f06a3088"
   },
   "outputs": [
    {
     "name": "stdout",
     "output_type": "stream",
     "text": [
      "Привет! 0\n",
      "Привет! 1\n",
      "Привет! 2\n",
      "Привет! 3\n",
      "Привет! 4\n"
     ]
    }
   ],
   "source": [
    "# kolvo = 0\n",
    "# while kolvo < 5:\n",
    "    # print('Привет!')\n",
    "    # kolvo +=1\n",
    "    \n",
    "\n",
    "# здороваемся 5 раз и считаем\n",
    "for i in range(5):\n",
    "    print('Привет!', i)"
   ]
  },
  {
   "cell_type": "code",
   "execution_count": 16,
   "id": "wKSeWLJpaqrp",
   "metadata": {
    "id": "wKSeWLJpaqrp"
   },
   "outputs": [
    {
     "name": "stdout",
     "output_type": "stream",
     "text": [
      "l 2\n",
      "l 3\n"
     ]
    }
   ],
   "source": [
    "word = 'Hello'\n",
    "for i in range(2,4):  # как l l напечатать?\n",
    "    print(word[i], i)"
   ]
  },
  {
   "cell_type": "code",
   "execution_count": 28,
   "id": "94f9438f",
   "metadata": {},
   "outputs": [
    {
     "name": "stdout",
     "output_type": "stream",
     "text": [
      "1 January\n",
      "2 February\n",
      "3 March\n",
      "4 April\n",
      "5 May\n",
      "6 June\n",
      "7 July\n",
      "8 August\n",
      "9 September\n",
      "10 October\n",
      "11 November\n",
      "12 December\n"
     ]
    }
   ],
   "source": [
    "for i in range(len(months)):\n",
    "    print(i+1, months[i])"
   ]
  },
  {
   "cell_type": "markdown",
   "id": "D7Hfzprsa7X2",
   "metadata": {
    "id": "D7Hfzprsa7X2"
   },
   "source": [
    "### Тренировка\n",
    "\n",
    "Как напечатать номер месяца и название? Есть много способов. Но пропробуем range(len(months))"
   ]
  },
  {
   "cell_type": "code",
   "execution_count": 19,
   "id": "aTfofsFqatN-",
   "metadata": {
    "id": "aTfofsFqatN-"
   },
   "outputs": [
    {
     "name": "stdout",
     "output_type": "stream",
     "text": [
      "1 January\n",
      "2 February\n",
      "3 March\n",
      "4 April\n",
      "5 May\n",
      "6 June\n",
      "7 July\n",
      "8 August\n",
      "9 September\n",
      "10 October\n",
      "11 November\n",
      "12 December\n"
     ]
    }
   ],
   "source": [
    "for i in range(len(months)):\n",
    "    print(i+1, months[i])"
   ]
  },
  {
   "cell_type": "markdown",
   "id": "bb11460f",
   "metadata": {
    "id": "bb11460f"
   },
   "source": [
    "### Тренировка\n",
    "Напечатайте в строку: название книги, автора, год издания"
   ]
  },
  {
   "cell_type": "code",
   "execution_count": 95,
   "id": "3f273e9b",
   "metadata": {
    "id": "3f273e9b"
   },
   "outputs": [],
   "source": [
    "books = ['Петя и волк', 'Муфта, Полботинка и Моховая Борода', 'Зоки и Бада']\n",
    "authors = ['С. С. Прокофьев', 'Эно Рауд', 'Ирина и Леонид Тюхтяевы']\n",
    "publication = ['1936', '1976', '1990']"
   ]
  },
  {
   "cell_type": "code",
   "execution_count": 96,
   "id": "9e7a53c8",
   "metadata": {},
   "outputs": [
    {
     "name": "stdout",
     "output_type": "stream",
     "text": [
      "Петя и волк - С. С. Прокофьев - 1936\n",
      "Муфта, Полботинка и Моховая Борода - Эно Рауд - 1976\n",
      "Зоки и Бада - Ирина и Леонид Тюхтяевы - 1990\n"
     ]
    }
   ],
   "source": [
    "for i in range(len(books)):\n",
    "    print(books[i], authors[i], publication[i], sep=' - ')"
   ]
  },
  {
   "cell_type": "markdown",
   "id": "Rhm23mTbcJWs",
   "metadata": {
    "id": "Rhm23mTbcJWs"
   },
   "source": [
    "## enumerate()"
   ]
  },
  {
   "cell_type": "code",
   "execution_count": null,
   "id": "SrrQ58N9cTOd",
   "metadata": {
    "id": "SrrQ58N9cTOd"
   },
   "outputs": [],
   "source": [
    "# воспоминание:\n",
    "a, b = 4, 5\n",
    "print(\"a:\", a)\n",
    "print(\"b:\", b)"
   ]
  },
  {
   "cell_type": "code",
   "execution_count": 29,
   "id": "Agil8Md2lGoR",
   "metadata": {
    "id": "Agil8Md2lGoR"
   },
   "outputs": [
    {
     "name": "stdout",
     "output_type": "stream",
     "text": [
      "id: 0 month: January\n",
      "id: 1 month: February\n",
      "id: 2 month: March\n",
      "id: 3 month: April\n",
      "id: 4 month: May\n",
      "id: 5 month: June\n",
      "id: 6 month: July\n",
      "id: 7 month: August\n",
      "id: 8 month: September\n",
      "id: 9 month: October\n",
      "id: 10 month: November\n",
      "id: 11 month: December\n"
     ]
    }
   ],
   "source": [
    "for i, month in enumerate(months):\n",
    "    print(\"id:\", i, \"month:\", month)"
   ]
  },
  {
   "cell_type": "code",
   "execution_count": 31,
   "id": "a993f248",
   "metadata": {},
   "outputs": [
    {
     "data": {
      "text/plain": [
       "[(0, 'January'),\n",
       " (1, 'February'),\n",
       " (2, 'March'),\n",
       " (3, 'April'),\n",
       " (4, 'May'),\n",
       " (5, 'June'),\n",
       " (6, 'July'),\n",
       " (7, 'August'),\n",
       " (8, 'September'),\n",
       " (9, 'October'),\n",
       " (10, 'November'),\n",
       " (11, 'December')]"
      ]
     },
     "execution_count": 31,
     "metadata": {},
     "output_type": "execute_result"
    }
   ],
   "source": [
    "list(enumerate(months))"
   ]
  },
  {
   "cell_type": "markdown",
   "id": "wYkSblRGlnVR",
   "metadata": {
    "id": "wYkSblRGlnVR"
   },
   "source": [
    "enumerate делает список кортежей: `[(порядковый_номер, элемент), (порядковый_номер, элемент), (порядковый_номер, элемент)]`\n",
    "\n"
   ]
  },
  {
   "cell_type": "code",
   "execution_count": 32,
   "id": "lv-8vhRLnCcy",
   "metadata": {
    "colab": {
     "base_uri": "https://localhost:8080/"
    },
    "id": "lv-8vhRLnCcy",
    "outputId": "827c2f80-fdaf-4c65-fde2-e38ef68d4a68"
   },
   "outputs": [
    {
     "name": "stdout",
     "output_type": "stream",
     "text": [
      "[(0, [1, 2, 3]), (1, [4, 5, 6]), (2, [7, 8, 9])]\n"
     ]
    }
   ],
   "source": [
    "matrix = [[1, 2, 3], [4, 5, 6], [7, 8, 9]]\n",
    "enum_matrix = list(enumerate(matrix))\n",
    "\n",
    "print(enum_matrix)"
   ]
  },
  {
   "cell_type": "markdown",
   "id": "vSXzDnQOnK_5",
   "metadata": {
    "id": "vSXzDnQOnK_5"
   },
   "source": [
    "## Цикл в цикле\n",
    "Максим подтягивается 4 подхода по 5 раз:"
   ]
  },
  {
   "cell_type": "code",
   "execution_count": 82,
   "id": "JwhcaMP8oIaj",
   "metadata": {
    "id": "JwhcaMP8oIaj"
   },
   "outputs": [
    {
     "name": "stdout",
     "output_type": "stream",
     "text": [
      "Начался подход\n",
      "Повторов сделано:\n",
      " 1\n",
      " 2\n",
      " 3\n",
      " 4\n",
      " 5\n",
      "ПОДХОДОВ сделано: 1\n",
      "\n",
      "Начался подход\n",
      "Повторов сделано:\n",
      " 1\n",
      " 2\n",
      " 3\n",
      " 4\n",
      " 5\n",
      "ПОДХОДОВ сделано: 2\n",
      "\n",
      "Начался подход\n",
      "Повторов сделано:\n",
      " 1\n",
      " 2\n",
      " 3\n",
      " 4\n",
      " 5\n",
      "ПОДХОДОВ сделано: 3\n",
      "\n",
      "Начался подход\n",
      "Повторов сделано:\n",
      " 1\n",
      " 2\n",
      " 3\n",
      " 4\n",
      " 5\n",
      "ПОДХОДОВ сделано: 4\n",
      "\n"
     ]
    }
   ],
   "source": [
    "num_sets = 4\n",
    "num_repeats = 5\n",
    "\n",
    "for set_povtor in range(num_sets):\n",
    "    print(\"Начался подход\")\n",
    "    print(\"Повторов сделано:\")\n",
    "    for repeat in range(num_repeats):\n",
    "        print(\"\", repeat + 1)\n",
    "    print(\"ПОДХОДОВ сделано:\", set_povtor + 1)\n",
    "    print()"
   ]
  },
  {
   "cell_type": "markdown",
   "id": "mXEPZcDIoNCn",
   "metadata": {
    "id": "mXEPZcDIoNCn"
   },
   "source": [
    "### Тренировка\n",
    "Снова напишем таблицу умножения (используя range)"
   ]
  },
  {
   "cell_type": "code",
   "execution_count": 83,
   "id": "VooTVX0koJee",
   "metadata": {
    "id": "VooTVX0koJee"
   },
   "outputs": [
    {
     "name": "stdout",
     "output_type": "stream",
     "text": [
      "2 * 2 = 4\n",
      "2 * 3 = 6\n",
      "2 * 4 = 8\n",
      "2 * 5 = 10\n",
      "2 * 6 = 12\n",
      "2 * 7 = 14\n",
      "2 * 8 = 16\n",
      "2 * 9 = 18\n",
      "\n",
      "3 * 2 = 6\n",
      "3 * 3 = 9\n",
      "3 * 4 = 12\n",
      "3 * 5 = 15\n",
      "3 * 6 = 18\n",
      "3 * 7 = 21\n",
      "3 * 8 = 24\n",
      "3 * 9 = 27\n",
      "\n",
      "4 * 2 = 8\n",
      "4 * 3 = 12\n",
      "4 * 4 = 16\n",
      "4 * 5 = 20\n",
      "4 * 6 = 24\n",
      "4 * 7 = 28\n",
      "4 * 8 = 32\n",
      "4 * 9 = 36\n",
      "\n",
      "5 * 2 = 10\n",
      "5 * 3 = 15\n",
      "5 * 4 = 20\n",
      "5 * 5 = 25\n",
      "5 * 6 = 30\n",
      "5 * 7 = 35\n",
      "5 * 8 = 40\n",
      "5 * 9 = 45\n",
      "\n",
      "6 * 2 = 12\n",
      "6 * 3 = 18\n",
      "6 * 4 = 24\n",
      "6 * 5 = 30\n",
      "6 * 6 = 36\n",
      "6 * 7 = 42\n",
      "6 * 8 = 48\n",
      "6 * 9 = 54\n",
      "\n",
      "7 * 2 = 14\n",
      "7 * 3 = 21\n",
      "7 * 4 = 28\n",
      "7 * 5 = 35\n",
      "7 * 6 = 42\n",
      "7 * 7 = 49\n",
      "7 * 8 = 56\n",
      "7 * 9 = 63\n",
      "\n",
      "8 * 2 = 16\n",
      "8 * 3 = 24\n",
      "8 * 4 = 32\n",
      "8 * 5 = 40\n",
      "8 * 6 = 48\n",
      "8 * 7 = 56\n",
      "8 * 8 = 64\n",
      "8 * 9 = 72\n",
      "\n",
      "9 * 2 = 18\n",
      "9 * 3 = 27\n",
      "9 * 4 = 36\n",
      "9 * 5 = 45\n",
      "9 * 6 = 54\n",
      "9 * 7 = 63\n",
      "9 * 8 = 72\n",
      "9 * 9 = 81\n",
      "\n"
     ]
    }
   ],
   "source": [
    "for a in range(2, 10):\n",
    "    for b in range(2, 10):\n",
    "        print(a, '*', b, '=', a*b)\n",
    "    print()"
   ]
  },
  {
   "cell_type": "markdown",
   "id": "tDzK-Px1oZ9t",
   "metadata": {
    "id": "tDzK-Px1oZ9t"
   },
   "source": [
    "## Методы списков"
   ]
  },
  {
   "cell_type": "markdown",
   "id": "R3AcYelMpo5i",
   "metadata": {
    "id": "R3AcYelMpo5i"
   },
   "source": [
    "### .append() - добавление элемента в конец списка"
   ]
  },
  {
   "cell_type": "code",
   "execution_count": 88,
   "id": "jn18l5qEpoRr",
   "metadata": {
    "colab": {
     "base_uri": "https://localhost:8080/"
    },
    "id": "jn18l5qEpoRr",
    "outputId": "c9b1f58e-8f65-41a3-fd34-57a10b596174"
   },
   "outputs": [
    {
     "name": "stdout",
     "output_type": "stream",
     "text": [
      "[]\n",
      "['спать']\n"
     ]
    }
   ],
   "source": [
    "list_of_wishes = []  # Список желаний, когда спрашивают.\n",
    "print(list_of_wishes)\n",
    "list_of_wishes.append('спать')  # После секунды раздумий\n",
    "print(list_of_wishes)\n",
    "\n",
    "# добавьте ещё одно желание"
   ]
  },
  {
   "cell_type": "markdown",
   "id": "JeAv65F-rIiM",
   "metadata": {
    "id": "JeAv65F-rIiM"
   },
   "source": [
    "Метод принимает один аргумент — объект, который нужно добавить. Метод ничего **не возвращает, а просто изменяет исходный список** (результат работы метода нельзя сохранить в переменную!).\n"
   ]
  },
  {
   "cell_type": "markdown",
   "id": "Whp4WwToq5VU",
   "metadata": {
    "id": "Whp4WwToq5VU"
   },
   "source": [
    "### .extend(`another_list`) - расширяет список, добавляя в конец все элементы списка `another_list`"
   ]
  },
  {
   "cell_type": "code",
   "execution_count": 89,
   "id": "cSQ5yzo7q4la",
   "metadata": {
    "colab": {
     "base_uri": "https://localhost:8080/"
    },
    "id": "cSQ5yzo7q4la",
    "outputId": "edf36948-543e-43f5-80f2-b17b33684364"
   },
   "outputs": [
    {
     "name": "stdout",
     "output_type": "stream",
     "text": [
      "['спать', 'любить и быть любимым', 'чтоб не болела мать', 'чтоб на нашей горестной планете только звезды падали с небес', 'были все доверчивы, как дети, и любили дождь, цветы и лес']\n"
     ]
    }
   ],
   "source": [
    "ready_wishlist = ['любить и быть любимым',\n",
    "                  'чтоб не болела мать',\n",
    "                  'чтоб на нашей горестной планете только звезды падали с небес',\n",
    "                  'были все доверчивы, как дети, и любили дождь, цветы и лес']\n",
    "list_of_wishes.extend(ready_wishlist)\n",
    "print(list_of_wishes)"
   ]
  },
  {
   "cell_type": "code",
   "execution_count": 90,
   "id": "WhArMMwqvzZW",
   "metadata": {
    "colab": {
     "base_uri": "https://localhost:8080/"
    },
    "id": "WhArMMwqvzZW",
    "outputId": "6634848c-6bbb-423d-ecdb-b9e36b0b616a"
   },
   "outputs": [
    {
     "name": "stdout",
     "output_type": "stream",
     "text": [
      "['конфета', 'шоколадка']\n",
      "['крекер', 'сухарик']\n",
      "['конфета', 'шоколадка', 'крекер', 'сухарик']\n"
     ]
    }
   ],
   "source": [
    "# Как объединить списки в один, не меняя исходных?\n",
    "# Сложить!\n",
    "\n",
    "sweet = ['конфета', 'шоколадка']\n",
    "salty = ['крекер', 'сухарик']\n",
    "basket = sweet + salty\n",
    "print(sweet)\n",
    "print(salty)\n",
    "print(basket)"
   ]
  },
  {
   "cell_type": "markdown",
   "id": "gMC01XWIrWX1",
   "metadata": {
    "id": "gMC01XWIrWX1"
   },
   "source": [
    "### .insert(`i`, `x`) - вставляет в `i`-ую позицию в списке значение `x`"
   ]
  },
  {
   "cell_type": "code",
   "execution_count": 91,
   "id": "amOISBbJqiWv",
   "metadata": {
    "colab": {
     "base_uri": "https://localhost:8080/"
    },
    "id": "amOISBbJqiWv",
    "outputId": "e410f726-b1ab-4d8b-8ab4-c19414cf524a"
   },
   "outputs": [
    {
     "data": {
      "text/plain": [
       "['жить',\n",
       " 'спать',\n",
       " 'любить и быть любимым',\n",
       " 'чтоб не болела мать',\n",
       " 'гулять',\n",
       " 'чтоб на нашей горестной планете только звезды падали с небес',\n",
       " 'были все доверчивы, как дети, и любили дождь, цветы и лес']"
      ]
     },
     "execution_count": 91,
     "metadata": {},
     "output_type": "execute_result"
    }
   ],
   "source": [
    "list_of_wishes.insert(0, 'жить')\n",
    "\n",
    "# вставьте ещё желаний\n",
    "list_of_wishes.insert(4, 'гулять')\n",
    "list_of_wishes"
   ]
  },
  {
   "cell_type": "markdown",
   "id": "d21hjkSttlGI",
   "metadata": {
    "id": "d21hjkSttlGI"
   },
   "source": [
    "### .remove(`x`) - удаляет первый элемент в списке, имеющий значение `x`"
   ]
  },
  {
   "cell_type": "code",
   "execution_count": 92,
   "id": "4zTIIwV3toIf",
   "metadata": {
    "id": "4zTIIwV3toIf"
   },
   "outputs": [
    {
     "data": {
      "text/plain": [
       "['жить',\n",
       " 'спать',\n",
       " 'любить и быть любимым',\n",
       " 'чтоб не болела мать',\n",
       " 'гулять',\n",
       " 'были все доверчивы, как дети, и любили дождь, цветы и лес']"
      ]
     },
     "execution_count": 92,
     "metadata": {},
     "output_type": "execute_result"
    }
   ],
   "source": [
    "list_of_wishes.remove('чтоб на нашей горестной планете только звезды падали с небес')\n",
    "list_of_wishes"
   ]
  },
  {
   "cell_type": "code",
   "execution_count": 93,
   "id": "hOCcb5ERuSQj",
   "metadata": {
    "colab": {
     "base_uri": "https://localhost:8080/"
    },
    "id": "hOCcb5ERuSQj",
    "outputId": "91b85b35-cfa4-4b7b-b5cf-06980ff1b2ac"
   },
   "outputs": [
    {
     "name": "stdout",
     "output_type": "stream",
     "text": [
      "['молоко', 'кефир', 'вода', 'сок', 'морс']\n"
     ]
    }
   ],
   "source": [
    "shoplist = ['молоко', 'кефир', 'сок', 'вода', 'сок', 'морс']  # тут 2 сока\n",
    "shoplist.remove('сок')\n",
    "print(shoplist)  # тут 1 сок, причём второй"
   ]
  },
  {
   "cell_type": "markdown",
   "id": "abbiYBGgtpWm",
   "metadata": {
    "id": "abbiYBGgtpWm"
   },
   "source": [
    "### .clear() - очищает список"
   ]
  },
  {
   "cell_type": "code",
   "execution_count": 52,
   "id": "iuZLh59Stsue",
   "metadata": {
    "colab": {
     "base_uri": "https://localhost:8080/"
    },
    "id": "iuZLh59Stsue",
    "outputId": "3bc1125f-18d5-4d4e-fc07-2d4c81bcd112"
   },
   "outputs": [
    {
     "name": "stdout",
     "output_type": "stream",
     "text": [
      "['молоко', 'кефир', 'вода', 'сок', 'морс']\n",
      "[]\n"
     ]
    }
   ],
   "source": [
    "print(shoplist)\n",
    "shoplist.clear()\n",
    "print(shoplist)"
   ]
  },
  {
   "cell_type": "markdown",
   "id": "WVKoImeTxToU",
   "metadata": {
    "id": "WVKoImeTxToU"
   },
   "source": [
    "## .count(`x`) - узнать, сколько раз встречается элемент `x`"
   ]
  },
  {
   "cell_type": "code",
   "execution_count": 56,
   "id": "43DkWmLixSkl",
   "metadata": {
    "colab": {
     "base_uri": "https://localhost:8080/"
    },
    "id": "43DkWmLixSkl",
    "outputId": "fd327da2-e325-4231-bee9-3d71ff32b308"
   },
   "outputs": [
    {
     "data": {
      "text/plain": [
       "0"
      ]
     },
     "execution_count": 56,
     "metadata": {},
     "output_type": "execute_result"
    }
   ],
   "source": [
    "shoplist = ['молоко', 'кефир', 'сок', 'вода', 'сок', 'морс']\n",
    "shoplist.count('сок')"
   ]
  },
  {
   "cell_type": "markdown",
   "id": "kYM1eRhZOm4e",
   "metadata": {
    "id": "kYM1eRhZOm4e"
   },
   "source": [
    "### Тренировка\n",
    "Игра \"Я знаю 5 имён девочек\"\n",
    "\n",
    "Спрашивайте у пользователя 5 названий чего-нибудь. Если пользователь повторился и ввёл имя 2й раз, игра завершается."
   ]
  },
  {
   "cell_type": "code",
   "execution_count": 104,
   "id": "h8aUPXPvvfYZ",
   "metadata": {
    "id": "h8aUPXPvvfYZ"
   },
   "outputs": [
    {
     "name": "stdout",
     "output_type": "stream",
     "text": [
      "Имя девочки: Маша\n",
      "Имя девочки: Маня\n",
      "Имя девочки: Маруся\n",
      "Имя девочки: Маша\n",
      "Было!\n"
     ]
    }
   ],
   "source": [
    "names = []\n",
    "for i in range(5):\n",
    "    answer = input('Имя девочки: ')\n",
    "    #if answer in names:  # Это отличный способ, который вы знали\n",
    "    #    print('Было!')\n",
    "    #    break\n",
    "    if names.count(answer) > 0:   # Это новый способ\n",
    "        print('Было!')\n",
    "        break\n",
    "\n",
    "    names.append(answer)\n",
    "    if i == 4:\n",
    "        print('Получилось!')\n",
    "    "
   ]
  },
  {
   "cell_type": "markdown",
   "id": "3VKAEkWSQMdQ",
   "metadata": {
    "id": "3VKAEkWSQMdQ"
   },
   "source": [
    "## .index(`x`) - узнать индекс элемента `x` в списке"
   ]
  },
  {
   "cell_type": "code",
   "execution_count": 75,
   "id": "eV0h9wvYxANV",
   "metadata": {
    "colab": {
     "base_uri": "https://localhost:8080/"
    },
    "id": "eV0h9wvYxANV",
    "outputId": "74d15f4c-c384-4dd8-add9-3f84d33874d2"
   },
   "outputs": [
    {
     "name": "stdout",
     "output_type": "stream",
     "text": [
      "2\n"
     ]
    }
   ],
   "source": [
    "# Так вы умели:\n",
    "\n",
    "shopping_list = ['молоко', 'сок', 'хлеб', 'сок', 'кефир']\n",
    "\n",
    "for i in range(len(shopping_list)):\n",
    "    if shopping_list[i] == 'хлеб':  # если мы нашли хлеб\n",
    "        print(i)\n",
    "        break      # остановим цикл, и индекс будет в переменной i \n",
    "                                    "
   ]
  },
  {
   "cell_type": "code",
   "execution_count": 58,
   "id": "Hf07fQxaQhdy",
   "metadata": {
    "colab": {
     "base_uri": "https://localhost:8080/"
    },
    "id": "Hf07fQxaQhdy",
    "outputId": "e145d79a-5729-4c07-b102-09e0d958fd92"
   },
   "outputs": [
    {
     "data": {
      "text/plain": [
       "2"
      ]
     },
     "execution_count": 58,
     "metadata": {},
     "output_type": "execute_result"
    }
   ],
   "source": [
    "shopping_list.index('хлеб')  # узнаём индекс первого такого элемента"
   ]
  },
  {
   "cell_type": "code",
   "execution_count": 62,
   "id": "Sum2RXpOSslk",
   "metadata": {
    "colab": {
     "base_uri": "https://localhost:8080/",
     "height": 173
    },
    "id": "Sum2RXpOSslk",
    "outputId": "a87a2cca-4b95-4ec6-9e2a-5229aebb5245"
   },
   "outputs": [
    {
     "ename": "ValueError",
     "evalue": "'морс' is not in list",
     "output_type": "error",
     "traceback": [
      "\u001b[0;31m---------------------------------------------------------------------------\u001b[0m",
      "\u001b[0;31mValueError\u001b[0m                                Traceback (most recent call last)",
      "Input \u001b[0;32mIn [62]\u001b[0m, in \u001b[0;36m<cell line: 1>\u001b[0;34m()\u001b[0m\n\u001b[0;32m----> 1\u001b[0m \u001b[43mshopping_list\u001b[49m\u001b[38;5;241;43m.\u001b[39;49m\u001b[43mindex\u001b[49m\u001b[43m(\u001b[49m\u001b[38;5;124;43m'\u001b[39;49m\u001b[38;5;124;43mморс\u001b[39;49m\u001b[38;5;124;43m'\u001b[39;49m\u001b[43m)\u001b[49m\n",
      "\u001b[0;31mValueError\u001b[0m: 'морс' is not in list"
     ]
    }
   ],
   "source": [
    "shopping_list.index('морс')  # если такого элемента, сломается"
   ]
  },
  {
   "cell_type": "markdown",
   "id": "OhvEQA0lSIrN",
   "metadata": {
    "id": "OhvEQA0lSIrN"
   },
   "source": [
    "### Тренировка\n",
    "Замените сок на что-нибудь другое."
   ]
  },
  {
   "cell_type": "code",
   "execution_count": 65,
   "id": "F_80vpxlSBwS",
   "metadata": {
    "id": "F_80vpxlSBwS"
   },
   "outputs": [
    {
     "data": {
      "text/plain": [
       "['молоко', 'пирог', 'хлеб', 'сок', 'кефир']"
      ]
     },
     "execution_count": 65,
     "metadata": {},
     "output_type": "execute_result"
    }
   ],
   "source": [
    "shopping_list = ['молоко', 'сок', 'хлеб', 'сок', 'кефир']\n",
    "id_juice = shopping_list.index('сок')\n",
    "shopping_list[id_juice] = 'пирог'\n",
    "shopping_list"
   ]
  },
  {
   "cell_type": "markdown",
   "id": "znT1UuQ9Rqe0",
   "metadata": {
    "id": "znT1UuQ9Rqe0"
   },
   "source": [
    "## Ещё несколько функций для списков и кортежей"
   ]
  },
  {
   "cell_type": "markdown",
   "id": "rYybFZW3R5JB",
   "metadata": {
    "id": "rYybFZW3R5JB"
   },
   "source": [
    "### sum() - сумма"
   ]
  },
  {
   "cell_type": "code",
   "execution_count": 66,
   "id": "Y6Hd96MjRorC",
   "metadata": {
    "colab": {
     "base_uri": "https://localhost:8080/"
    },
    "id": "Y6Hd96MjRorC",
    "outputId": "93487b22-90ad-44b1-ad92-2d9a2670581f"
   },
   "outputs": [
    {
     "name": "stdout",
     "output_type": "stream",
     "text": [
      "6\n",
      "10.5\n"
     ]
    }
   ],
   "source": [
    "print(sum([1, 2, 3]))     # попросим посчитать и вывести сумму чисел в списке\n",
    "print(sum((3.5, 3, 4)))   # попросим посчитать и вывести сумму чисел в кортеже"
   ]
  },
  {
   "cell_type": "markdown",
   "id": "t8Ms0P1gTDvg",
   "metadata": {
    "id": "t8Ms0P1gTDvg"
   },
   "source": [
    "### min() - минимальное"
   ]
  },
  {
   "cell_type": "code",
   "execution_count": 67,
   "id": "cNJu7lFBTByJ",
   "metadata": {
    "colab": {
     "base_uri": "https://localhost:8080/"
    },
    "id": "cNJu7lFBTByJ",
    "outputId": "a5853322-2256-4da7-8765-bbcd84291bc9"
   },
   "outputs": [
    {
     "name": "stdout",
     "output_type": "stream",
     "text": [
      "1\n",
      "3\n"
     ]
    }
   ],
   "source": [
    "print(min([1, 2, 3]))     # попросим посчитать и вывести сумму чисел в списке\n",
    "print(min((3.5, 3, 4)))"
   ]
  },
  {
   "cell_type": "markdown",
   "id": "Oj_PZyhgTDL7",
   "metadata": {
    "id": "Oj_PZyhgTDL7"
   },
   "source": [
    "### max() - максимальное"
   ]
  },
  {
   "cell_type": "code",
   "execution_count": 68,
   "id": "jHeBvTWaTjmQ",
   "metadata": {
    "colab": {
     "base_uri": "https://localhost:8080/"
    },
    "id": "jHeBvTWaTjmQ",
    "outputId": "e39bc4b7-8820-4e6f-82d8-a897ea6b9da5"
   },
   "outputs": [
    {
     "name": "stdout",
     "output_type": "stream",
     "text": [
      "3\n",
      "4\n"
     ]
    }
   ],
   "source": [
    "print(max([1, 2, 3]))     # попросим посчитать и вывести сумму чисел в списке\n",
    "print(max((3.5, 3, 4)))"
   ]
  },
  {
   "cell_type": "code",
   "execution_count": 71,
   "id": "iCFlo3spT2aV",
   "metadata": {
    "colab": {
     "base_uri": "https://localhost:8080/"
    },
    "id": "iCFlo3spT2aV",
    "outputId": "85e81b86-0c15-4fd1-b315-4822669e32e2"
   },
   "outputs": [
    {
     "name": "stdout",
     "output_type": "stream",
     "text": [
      "я\n"
     ]
    }
   ],
   "source": [
    "# работает и со строками\n",
    "s = 'abzя112358'\n",
    "print(max(s))"
   ]
  },
  {
   "cell_type": "markdown",
   "id": "E8w8b9PEVH6b",
   "metadata": {
    "id": "E8w8b9PEVH6b"
   },
   "source": [
    "## map() - применить функцию или метод ко всем элементам сразу"
   ]
  },
  {
   "cell_type": "code",
   "execution_count": 72,
   "id": "vufAQzqxVnXe",
   "metadata": {
    "colab": {
     "base_uri": "https://localhost:8080/"
    },
    "id": "vufAQzqxVnXe",
    "outputId": "cd143384-0478-47bf-acae-cd5f4a5babdd"
   },
   "outputs": [
    {
     "data": {
      "text/plain": [
       "<map at 0x104c4ffa0>"
      ]
     },
     "execution_count": 72,
     "metadata": {},
     "output_type": "execute_result"
    }
   ],
   "source": [
    "map(len, ['Привет', 'ТЕСТ', 'функции', 'map!'])"
   ]
  },
  {
   "cell_type": "code",
   "execution_count": 73,
   "id": "ldyfXKEAVLP4",
   "metadata": {
    "colab": {
     "base_uri": "https://localhost:8080/"
    },
    "id": "ldyfXKEAVLP4",
    "outputId": "35eeb80f-ce17-4f08-e717-cadc252c6c17"
   },
   "outputs": [
    {
     "name": "stdout",
     "output_type": "stream",
     "text": [
      "[6, 4, 7, 4]\n"
     ]
    }
   ],
   "source": [
    "print(list(map(len, ['Привет', 'ТЕСТ', 'функции', 'map!'])))"
   ]
  },
  {
   "cell_type": "code",
   "execution_count": 74,
   "id": "siz6hvU2WVA2",
   "metadata": {
    "colab": {
     "base_uri": "https://localhost:8080/"
    },
    "id": "siz6hvU2WVA2",
    "outputId": "354f863e-ce8a-4161-d357-e7d272ab35ca"
   },
   "outputs": [
    {
     "name": "stdout",
     "output_type": "stream",
     "text": [
      "[['Таня', 'Казакова'], ['Максим', 'Бажуков'], ['Олег', 'Сериков']]\n"
     ]
    }
   ],
   "source": [
    "print(list(map(str.split, ['Таня Казакова', 'Максим Бажуков', 'Олег Сериков'])))"
   ]
  }
 ],
 "metadata": {
  "colab": {
   "provenance": []
  },
  "kernelspec": {
   "display_name": "Python 3 (ipykernel)",
   "language": "python",
   "name": "python3"
  },
  "language_info": {
   "codemirror_mode": {
    "name": "ipython",
    "version": 3
   },
   "file_extension": ".py",
   "mimetype": "text/x-python",
   "name": "python",
   "nbconvert_exporter": "python",
   "pygments_lexer": "ipython3",
   "version": "3.9.16"
  }
 },
 "nbformat": 4,
 "nbformat_minor": 5
}
