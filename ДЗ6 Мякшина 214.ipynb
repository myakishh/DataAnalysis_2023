{
 "cells": [
  {
   "cell_type": "code",
   "execution_count": 1,
   "id": "dcee7c60",
   "metadata": {},
   "outputs": [
    {
     "name": "stdout",
     "output_type": "stream",
     "text": [
      "11\n",
      "['Бах', 'Гайдн', 'Моцарт', 'Бетховен', 'Вивальди', 'Шопен', 'Шуберт', 'Григ', 'Глинка', 'Чайковский', 'Прокофьев', 'Бородин', 'Рахманинов', 'Римский-Корсаков']\n"
     ]
    }
   ],
   "source": [
    "#Задание 1 \n",
    "composers = ['Бах', 'Гайдн', 'Моцарт', 'Бетховен', 'Вивальди', 'Шопен', 'Шуберт', 'Григ',\n",
    "             'Глинка', 'Чайковский', 'Прокофьев', 'инкогнито', 'Рахманинов', 'Римский-Корсаков']\n",
    "x = composers.index('инкогнито')\n",
    "composers[x] = 'Бородин'\n",
    "print(x)\n",
    "print(composers)\n"
   ]
  },
  {
   "cell_type": "code",
   "execution_count": 2,
   "id": "7a2f342e",
   "metadata": {},
   "outputs": [
    {
     "name": "stdout",
     "output_type": "stream",
     "text": [
      "('Ломоносов', 'Менделеев', 'Лавуазье', 'Бойль', 'Бородин', 'Бутлеров', 'Авогадро', 'Фарадей', 'Бойль')\n"
     ]
    }
   ],
   "source": [
    "#Задание 2\n",
    "chemists = ('Ломоносов', 'Менделеев', 'Лавуазье', 'Бойль', 'инкогнито',\n",
    "            'Бутлеров', 'Авогадро', 'Фарадей', 'Бойль')\n",
    "x = chemists.index('инкогнито')\n",
    "chemists = list(chemists)\n",
    "chemists[x] = 'Бородин'\n",
    "print(tuple(chemists))\n"
   ]
  },
  {
   "cell_type": "code",
   "execution_count": null,
   "id": "f31a755b",
   "metadata": {},
   "outputs": [],
   "source": [
    "#Задание 3 ВариантАА\n",
    "words = ['шляпа', 'шляпы', 'шляпу']\n",
    "root = input('Введите корень или часть слова:\\n')\n",
    "ending = input('Введите нежелательный конец слова:\\n')\n",
    "for word in words:\n",
    "    if root in word and not word.endswith(ending):\n",
    "        print(word)\n"
   ]
  },
  {
   "cell_type": "code",
   "execution_count": null,
   "id": "0dd68b14",
   "metadata": {},
   "outputs": [],
   "source": []
  }
 ],
 "metadata": {
  "kernelspec": {
   "display_name": "Python 3 (ipykernel)",
   "language": "python",
   "name": "python3"
  },
  "language_info": {
   "codemirror_mode": {
    "name": "ipython",
    "version": 3
   },
   "file_extension": ".py",
   "mimetype": "text/x-python",
   "name": "python",
   "nbconvert_exporter": "python",
   "pygments_lexer": "ipython3",
   "version": "3.9.13"
  }
 },
 "nbformat": 4,
 "nbformat_minor": 5
}
